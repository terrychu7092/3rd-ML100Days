{
 "cells": [
  {
   "cell_type": "markdown",
   "metadata": {},
   "source": [
    "# [作業目標]\n",
    "- 仿造範例的 One Hot Encoding, 將指定的資料進行編碼"
   ]
  },
  {
   "cell_type": "markdown",
   "metadata": {},
   "source": [
    "# [作業重點]\n",
    "- 將 sub_train 進行 One Hot Encoding 編碼 (In[4], Out[4])"
   ]
  },
  {
   "cell_type": "code",
   "execution_count": 4,
   "metadata": {
    "colab": {},
    "colab_type": "code",
    "id": "lh9gyloHVblR"
   },
   "outputs": [],
   "source": [
    "import os\n",
    "import numpy as np\n",
    "import pandas as pd"
   ]
  },
  {
   "cell_type": "code",
   "execution_count": 6,
   "metadata": {
    "colab": {},
    "colab_type": "code",
    "id": "z4iLB9cKVblV"
   },
   "outputs": [],
   "source": [
    "# 設定 data_path, 並讀取 app_train\n",
    "dir_data = './D04_data/'\n",
    "f_app_train = os.path.join(dir_data, 'application_train.csv')\n",
    "app_train = pd.read_csv(f_app_train)"
   ]
  },
  {
   "cell_type": "markdown",
   "metadata": {
    "colab": {},
    "colab_type": "code",
    "collapsed": true,
    "id": "d5IeEcPVVblq"
   },
   "source": [
    "## 作業\n",
    "將下列部分資料片段 sub_train 使用 One Hot encoding, 並觀察轉換前後的欄位數量 (使用 shape) 與欄位名稱 (使用 head) 變化"
   ]
  },
  {
   "cell_type": "code",
   "execution_count": 37,
   "metadata": {},
   "outputs": [
    {
     "name": "stdout",
     "output_type": "stream",
     "text": [
      "(307511, 1)\n"
     ]
    },
    {
     "data": {
      "text/plain": [
       "WEEKDAY_APPR_PROCESS_START    7\n",
       "dtype: int64"
      ]
     },
     "execution_count": 37,
     "metadata": {},
     "output_type": "execute_result"
    }
   ],
   "source": [
    "sub_train = pd.DataFrame(app_train['WEEKDAY_APPR_PROCESS_START'])\n",
    "print(sub_train.shape)\n",
    "sub_train.head()\n",
    "sub_train.dtypes.value_counts()\n",
    "sub_train.select_dtypes(include=['object']).apply(pd.Series.nunique, axis = 0)"
   ]
  },
  {
   "cell_type": "code",
   "execution_count": 38,
   "metadata": {},
   "outputs": [
    {
     "name": "stdout",
     "output_type": "stream",
     "text": [
      "0    1\n",
      "1    0\n",
      "2    0\n",
      "3    1\n",
      "4    0\n",
      "Name: WEEKDAY_APPR_PROCESS_START_WEDNESDAY, dtype: uint8\n",
      "0    0\n",
      "1    1\n",
      "2    1\n",
      "3    0\n",
      "4    0\n",
      "Name: WEEKDAY_APPR_PROCESS_START_MONDAY, dtype: uint8\n",
      "0    0\n",
      "1    0\n",
      "2    0\n",
      "3    0\n",
      "4    1\n",
      "Name: WEEKDAY_APPR_PROCESS_START_THURSDAY, dtype: uint8\n",
      "(307511, 7)\n"
     ]
    },
    {
     "data": {
      "text/plain": [
       "WEEKDAY_APPR_PROCESS_START_FRIDAY       2\n",
       "WEEKDAY_APPR_PROCESS_START_MONDAY       2\n",
       "WEEKDAY_APPR_PROCESS_START_SATURDAY     2\n",
       "WEEKDAY_APPR_PROCESS_START_SUNDAY       2\n",
       "WEEKDAY_APPR_PROCESS_START_THURSDAY     2\n",
       "WEEKDAY_APPR_PROCESS_START_TUESDAY      2\n",
       "WEEKDAY_APPR_PROCESS_START_WEDNESDAY    2\n",
       "dtype: int64"
      ]
     },
     "execution_count": 38,
     "metadata": {},
     "output_type": "execute_result"
    }
   ],
   "source": [
    "sub_train2 = pd.get_dummies(sub_train)\n",
    "\n",
    "print(sub_train2['WEEKDAY_APPR_PROCESS_START_WEDNESDAY'].head())\n",
    "print(sub_train2['WEEKDAY_APPR_PROCESS_START_MONDAY'].head())\n",
    "print(sub_train2['WEEKDAY_APPR_PROCESS_START_THURSDAY'].head())\n",
    "print(sub_train2.shape)\n",
    "\n",
    "sub_train2.dtypes.value_counts()\n",
    "\n",
    "sub_train2.select_dtypes(include='uint8').apply(pd.Series.nunique, axis = 0)"
   ]
  },
  {
   "cell_type": "code",
   "execution_count": null,
   "metadata": {},
   "outputs": [],
   "source": []
  }
 ],
 "metadata": {
  "colab": {
   "name": "Day_004_column_data_type.ipynb",
   "provenance": [],
   "version": "0.3.2"
  },
  "kernelspec": {
   "display_name": "Python 3",
   "language": "python",
   "name": "python3"
  },
  "language_info": {
   "codemirror_mode": {
    "name": "ipython",
    "version": 3
   },
   "file_extension": ".py",
   "mimetype": "text/x-python",
   "name": "python",
   "nbconvert_exporter": "python",
   "pygments_lexer": "ipython3",
   "version": "3.7.3"
  }
 },
 "nbformat": 4,
 "nbformat_minor": 1
}
